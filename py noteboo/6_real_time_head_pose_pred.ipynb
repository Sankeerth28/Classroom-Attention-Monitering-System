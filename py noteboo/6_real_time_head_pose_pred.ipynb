{
 "cells": [
  {
   "cell_type": "markdown",
   "id": "ff0e5175",
   "metadata": {},
   "source": [
    "## Code for Looking away"
   ]
  },
  {
   "cell_type": "code",
   "execution_count": 1,
   "id": "d8c87242",
   "metadata": {},
   "outputs": [
    {
     "name": "stdout",
     "output_type": "stream",
     "text": [
      "✅ Calibrated yaw: 178.46\n"
     ]
    }
   ],
   "source": [
    "import cv2\n",
    "import mediapipe as mp\n",
    "import numpy as np\n",
    "\n",
    "# Setup MediaPipe Face Mesh\n",
    "mp_face_mesh = mp.solutions.face_mesh\n",
    "face_mesh = mp_face_mesh.FaceMesh(static_image_mode=False, refine_landmarks=True, max_num_faces=1)\n",
    "drawing = mp.solutions.drawing_utils\n",
    "\n",
    "# Yaw calibration vars\n",
    "calibration_frames = 30\n",
    "yaw_sum = 0\n",
    "frame_count = 0\n",
    "calibrated_yaw = 0\n",
    "calibrated = False\n",
    "\n",
    "# Start webcam\n",
    "cap = cv2.VideoCapture(0)\n",
    "\n",
    "while cap.isOpened():\n",
    "    ret, frame = cap.read()\n",
    "    if not ret:\n",
    "        break\n",
    "\n",
    "    h, w, _ = frame.shape\n",
    "    rgb = cv2.cvtColor(frame, cv2.COLOR_BGR2RGB)\n",
    "    result = face_mesh.process(rgb)\n",
    "\n",
    "    label = \"Looking Straight\"\n",
    "\n",
    "    if result.multi_face_landmarks:\n",
    "        face = result.multi_face_landmarks[0]\n",
    "        drawing.draw_landmarks(frame, face, mp_face_mesh.FACEMESH_TESSELATION)\n",
    "        lm = face.landmark\n",
    "\n",
    "        # 3D coordinates for yaw estimation\n",
    "        nose = np.array([lm[1].x, lm[1].y, lm[1].z])\n",
    "        left_eye = np.array([lm[33].x, lm[33].y, lm[33].z])\n",
    "        right_eye = np.array([lm[263].x, lm[263].y, lm[263].z])\n",
    "        eye_mid = (left_eye + right_eye) / 2\n",
    "        face_vector = nose - eye_mid\n",
    "\n",
    "        # Yaw angle in degrees\n",
    "        yaw_angle = -np.arctan2(face_vector[0], face_vector[2]) * 180 / np.pi\n",
    "\n",
    "        # Visualize face direction\n",
    "        cx, cy = int(lm[1].x * w), int(lm[1].y * h)\n",
    "        dx = int(150 * face_vector[0])\n",
    "        dy = int(150 * face_vector[1])\n",
    "        cv2.arrowedLine(frame, (cx, cy), (cx + dx, cy + dy), (0, 255, 0), 2)\n",
    "\n",
    "        # Calibration\n",
    "        if not calibrated:\n",
    "            yaw_sum += yaw_angle\n",
    "            frame_count += 1\n",
    "            cv2.putText(frame, \"Calibrating... Look straight\", (20, 460),\n",
    "                        cv2.FONT_HERSHEY_SIMPLEX, 0.7, (255, 255, 0), 2)\n",
    "            if frame_count == calibration_frames:\n",
    "                calibrated_yaw = yaw_sum / calibration_frames\n",
    "                calibrated = True\n",
    "                print(f\"✅ Calibrated yaw: {calibrated_yaw:.2f}\")\n",
    "        else:\n",
    "            corrected_yaw = yaw_angle - calibrated_yaw\n",
    "            cv2.putText(frame, f\"Yaw: {corrected_yaw:.1f}\", (20, 100),\n",
    "                        cv2.FONT_HERSHEY_SIMPLEX, 0.8, (200, 255, 200), 2)\n",
    "            if abs(corrected_yaw) > 20:\n",
    "                label = \"Looking Away\"\n",
    "            else:\n",
    "                label = \"Looking Straight\"\n",
    "    else:\n",
    "        label = \"No Face Detected\"\n",
    "\n",
    "    # Draw final label\n",
    "    cv2.putText(frame, label, (20, 40),\n",
    "                cv2.FONT_HERSHEY_SIMPLEX, 1, (0, 255, 255), 3)\n",
    "\n",
    "    cv2.imshow(\"Looking Away Detection\", frame)\n",
    "    if cv2.waitKey(1) & 0xFF == ord('q'):\n",
    "        break\n",
    "\n",
    "cap.release()\n",
    "cv2.destroyAllWindows()\n"
   ]
  },
  {
   "cell_type": "code",
   "execution_count": null,
   "id": "becf76ab",
   "metadata": {},
   "outputs": [],
   "source": []
  }
 ],
 "metadata": {
  "kernelspec": {
   "display_name": "cam-env",
   "language": "python",
   "name": "python3"
  },
  "language_info": {
   "codemirror_mode": {
    "name": "ipython",
    "version": 3
   },
   "file_extension": ".py",
   "mimetype": "text/x-python",
   "name": "python",
   "nbconvert_exporter": "python",
   "pygments_lexer": "ipython3",
   "version": "3.12.9"
  }
 },
 "nbformat": 4,
 "nbformat_minor": 5
}
